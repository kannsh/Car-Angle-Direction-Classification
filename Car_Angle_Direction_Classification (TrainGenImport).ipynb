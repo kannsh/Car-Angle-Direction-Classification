{
 "cells": [
  {
   "cell_type": "markdown",
   "metadata": {},
   "source": [
    "I'm using GPU for this notebook, remove this code if you are not using GPU."
   ]
  },
  {
   "cell_type": "code",
   "execution_count": 1,
   "metadata": {},
   "outputs": [],
   "source": [
    "import plaidml.keras\n",
    "import os\n",
    "plaidml.keras.install_backend()\n",
    "os.environ[\"KERAS_BACKEND\"] = \"plaidml.keras.backend\""
   ]
  },
  {
   "cell_type": "markdown",
   "metadata": {},
   "source": [
    "Load necessary packages and dataset"
   ]
  },
  {
   "cell_type": "code",
   "execution_count": 2,
   "metadata": {
    "scrolled": true
   },
   "outputs": [],
   "source": [
    "import numpy as np\n",
    "import pandas as pd \n",
    "from keras.preprocessing.image import ImageDataGenerator, load_img\n",
    "from keras.utils import to_categorical \n",
    "from sklearn.model_selection import train_test_split\n",
    "import matplotlib.pyplot as plt\n",
    "import random\n",
    "import json\n",
    "import os\n",
    "\n",
    "# Create an empty lists to group angles and category of steer angle\n",
    "categories=[]\n",
    "angles=[]     \n",
    "\n",
    "filepath = \"tub280_copy\\\\tub_280_20-02-01(Copywithmeta)\\\\\" # Load image from tub \n",
    "filenames = sorted(os.listdir(filepath), key=len)\n",
    "\n",
    "for filename in filenames: \n",
    "    if filename.endswith(\".json\") and not filename.startswith(\"meta\"):\n",
    "            with open(filepath+filename, 'r') as read_file:\n",
    "            \n",
    "                json_data = json.load(read_file)\n",
    "                angle_value = float(json_data[\"user/angle\"]) \n",
    "                    \n",
    "                if -1.0 <= angle_value <= -0.8:\n",
    "                    categories.append(\"cat1\")\n",
    "                    angles.append(angle_value)\n",
    "                 \n",
    "                elif -0.8 <= angle_value <= -0.6:\n",
    "                    categories.append(\"cat2\")\n",
    "                    angles.append(angle_value)\n",
    "                        \n",
    "                elif -0.6 <= angle_value <= -0.4:\n",
    "                    categories.append(\"cat3\")\n",
    "                    angles.append(angle_value)\n",
    "                                      \n",
    "                elif -0.4 <= angle_value <= -0.2:\n",
    "                    categories.append(\"cat4\")\n",
    "                    angles.append(angle_value)\n",
    "                                      \n",
    "                elif -0.2 <= angle_value <= 0.0:\n",
    "                    categories.append(\"cat5\")\n",
    "                    angles.append(angle_value)\n",
    "                    \n",
    "                elif 0.0 <= angle_value <= 0.2:\n",
    "                    categories.append(\"cat6\")\n",
    "                    angles.append(angle_value)\n",
    "                \n",
    "                elif 0.2 <= angle_value <= 0.4:\n",
    "                    categories.append(\"cat7\")\n",
    "                    angles.append(angle_value)\n",
    "                    \n",
    "                elif 0.4 <= angle_value <= 0.6:\n",
    "                    categories.append(\"cat8\")\n",
    "                    angles.append(angle_value)\n",
    "                \n",
    "                elif 0.6 <= angle_value <= 0.8:\n",
    "                    categories.append(\"cat9\")\n",
    "                    angles.append(angle_value)\n",
    "                    \n",
    "                elif 0.8 <= angle_value <= 1.0:\n",
    "                    categories.append(\"cat10\")\n",
    "                    angles.append(angle_value)\n",
    "                    \n",
    "# The amount of categories should correspond to amount of json files\n",
    "x = len(categories)\n",
    "\n",
    "# Store filename and category in dataframe      \n",
    "# Array length of json, image and category should be the same\n",
    "# *IMPORTANT* (amount in filename MUST CORRESPOND TO amount in categories)\n",
    "df = pd.DataFrame({\n",
    "     \n",
    "    'json_filename': filenames[1:x+1],\n",
    "    'image_filename': filenames[x+1:2*x+1],\n",
    "    'category': categories,     \n",
    "    'angle_value': angles\n",
    "})"
   ]
  },
  {
   "cell_type": "markdown",
   "metadata": {},
   "source": [
    "We do not need to create & compile model since we have saved the trained model already"
   ]
  },
  {
   "cell_type": "markdown",
   "metadata": {},
   "source": [
    "Lets split our files into 80% train and 20% validation, \n",
    "state 0 to prevent random splitting"
   ]
  },
  {
   "cell_type": "code",
   "execution_count": 4,
   "metadata": {},
   "outputs": [],
   "source": [
    "train_df, validate_df = train_test_split(df, test_size=0.20, random_state=0) \n",
    "\n",
    "# Lets see total 'TRAIN' files and in each category\n",
    "train_df = train_df.reset_index(drop=True)"
   ]
  },
  {
   "cell_type": "code",
   "execution_count": 5,
   "metadata": {
    "scrolled": false
   },
   "outputs": [],
   "source": [
    "# Lets see total 'VALIDATE' files and in each category\n",
    "validate_df = validate_df.reset_index(drop=True)"
   ]
  },
  {
   "cell_type": "code",
   "execution_count": 6,
   "metadata": {},
   "outputs": [],
   "source": [
    "# Get total train and validate, and batch size to fit model\n",
    "total_train = train_df.shape[0]\n",
    "total_validate = validate_df.shape[0] "
   ]
  },
  {
   "cell_type": "markdown",
   "metadata": {},
   "source": [
    "Use Data augmentation on the train set\n",
    "\n",
    "Create train and validation generators"
   ]
  },
  {
   "cell_type": "code",
   "execution_count": 7,
   "metadata": {},
   "outputs": [
    {
     "name": "stdout",
     "output_type": "stream",
     "text": [
      "Found 3933 validated image filenames belonging to 10 classes.\n",
      "Found 984 validated image filenames belonging to 10 classes.\n"
     ]
    }
   ],
   "source": [
    "train_datagen = ImageDataGenerator(\n",
    "                                    rescale=1./255,\n",
    "                                    brightness_range = [0.8,0.8],\n",
    ")\n",
    "\n",
    "validation_datagen = ImageDataGenerator(rescale=1./255)\n",
    "\n",
    "# Create train and valdiation generator\n",
    "# From data folder, we split the data into train and validate. \n",
    "# The image in train and validate are taken from data, BUT do not contain the same images\n",
    "# I checked by running 'submission.validate_df(copy)/train_df(copy)'\n",
    "\n",
    "train_generator = train_datagen.flow_from_dataframe(\n",
    "    train_df, \n",
    "    filepath, \n",
    "    x_col='image_filename',\n",
    "    y_col='category',\n",
    "    target_size=(120,160),\n",
    "    class_mode='categorical', \n",
    "    batch_size=20,\n",
    "    \n",
    ")\n",
    "\n",
    "validation_generator = validation_datagen.flow_from_dataframe(\n",
    "    validate_df, \n",
    "    filepath, \n",
    "    x_col='image_filename',\n",
    "    y_col='category',\n",
    "    target_size=(120,160),\n",
    "    class_mode='categorical',\n",
    "    batch_size=20\n",
    ")"
   ]
  },
  {
   "cell_type": "code",
   "execution_count": 8,
   "metadata": {
    "scrolled": false
   },
   "outputs": [],
   "source": [
    "# No need to train model or plot graph"
   ]
  }
 ],
 "metadata": {
  "kernelspec": {
   "display_name": "Python 3",
   "language": "python",
   "name": "python3"
  },
  "language_info": {
   "codemirror_mode": {
    "name": "ipython",
    "version": 3
   },
   "file_extension": ".py",
   "mimetype": "text/x-python",
   "name": "python",
   "nbconvert_exporter": "python",
   "pygments_lexer": "ipython3",
   "version": "3.7.7"
  }
 },
 "nbformat": 4,
 "nbformat_minor": 2
}
